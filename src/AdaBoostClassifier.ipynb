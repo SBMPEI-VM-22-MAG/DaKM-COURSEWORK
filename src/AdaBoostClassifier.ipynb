{
 "cells": [
  {
   "cell_type": "code",
   "execution_count": 1,
   "metadata": {},
   "outputs": [
    {
     "name": "stdout",
     "output_type": "stream",
     "text": [
      "Общая точность (Accuracy): 0.95\n",
      "Точность (Precision): 0.963855421686747\n",
      "Полнота (Recall): 0.9495548961424333\n",
      "F1-мера: 0.9566517189835576\n"
     ]
    }
   ],
   "source": [
    "import pandas as pd\n",
    "import numpy as np\n",
    "import matplotlib.pyplot as plt\n",
    "from sklearn.model_selection import train_test_split\n",
    "from sklearn.ensemble import AdaBoostClassifier  # Импортируем AdaBoostClassifier\n",
    "from sklearn.metrics import accuracy_score, f1_score, precision_score, recall_score\n",
    "from sklearn import preprocessing\n",
    "\n",
    "le = preprocessing.LabelEncoder()\n",
    "\n",
    "# Загрузка данных\n",
    "data = pd.read_csv('voice.csv')\n",
    "\n",
    "# Преобразование категориальных меток в числовые\n",
    "data['label'] = le.fit_transform(data['label'])\n",
    "\n",
    "# Подготовка данных\n",
    "X = data.drop('label', axis=1)\n",
    "y = data['label']\n",
    "X_train, X_test, y_train, y_test = train_test_split(X, y, test_size=0.2, random_state=42)\n",
    "\n",
    "# Создание и обучение модели AdaBoostClassifier\n",
    "clf = AdaBoostClassifier(n_estimators=10, learning_rate=0.1, random_state=42)  # Используем AdaBoostClassifier\n",
    "clf.fit(X_train, y_train)\n",
    "\n",
    "# Оценка модели\n",
    "y_pred = clf.predict(X_test)\n",
    "accuracy = accuracy_score(y_test, y_pred)\n",
    "precision = precision_score(y_test, y_pred)\n",
    "recall = recall_score(y_test, y_pred)\n",
    "f1 = f1_score(y_test, y_pred)\n",
    "\n",
    "print(f'Общая точность (Accuracy): {accuracy:.2f}')\n",
    "print(\"Точность (Precision):\", precision)\n",
    "print(\"Полнота (Recall):\", recall)\n",
    "print(\"F1-мера:\", f1)\n"
   ]
  }
 ],
 "metadata": {
  "kernelspec": {
   "display_name": "Python 3",
   "language": "python",
   "name": "python3"
  },
  "language_info": {
   "codemirror_mode": {
    "name": "ipython",
    "version": 3
   },
   "file_extension": ".py",
   "mimetype": "text/x-python",
   "name": "python",
   "nbconvert_exporter": "python",
   "pygments_lexer": "ipython3",
   "version": "3.8.10"
  },
  "orig_nbformat": 4
 },
 "nbformat": 4,
 "nbformat_minor": 2
}
