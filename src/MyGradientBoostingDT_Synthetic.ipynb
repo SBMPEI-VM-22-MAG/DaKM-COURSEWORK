{
 "cells": [
  {
   "cell_type": "code",
   "execution_count": 5,
   "metadata": {},
   "outputs": [
    {
     "name": "stdout",
     "output_type": "stream",
     "text": [
      "Tree= 1\n",
      "Tree= 2\n",
      "Tree= 3\n",
      "Tree= 4\n",
      "Tree= 5\n",
      "Tree= 6\n",
      "Tree= 7\n",
      "Tree= 8\n",
      "Tree= 9\n",
      "Tree= 10\n",
      "Tree= 11\n",
      "Tree= 12\n",
      "Tree= 13\n",
      "Tree= 14\n",
      "Tree= 15\n",
      "Tree= 16\n",
      "Tree= 17\n",
      "Tree= 18\n",
      "Tree= 19\n",
      "Tree= 20\n",
      "Accuracy: 0.985\n"
     ]
    }
   ],
   "source": [
    "from CustomGBDT import CustomGBDT\n",
    "from sklearn.model_selection import train_test_split\n",
    "from sklearn.metrics import accuracy_score, f1_score, precision_score, recall_score\n",
    "from sklearn.datasets import make_classification  \n",
    "\n",
    "# генерация синтетических данных\n",
    "X, y = make_classification(n_samples=3000, n_features=20, random_state=42)\n",
    "X_train, X_test, y_train, y_test = train_test_split(X, y, test_size=0.2, random_state=42)\n",
    "clf = CustomGBDT(n_estimators=20, learning_rate=0.1, max_depth=5)\n",
    "clf.fit(X_train, y_train)\n",
    "\n",
    "y_pred = clf.predict(X_test)\n",
    "\n",
    "# Оценка качества\n",
    "accuracy = accuracy_score(y_test, y_pred)\n",
    "precision = precision_score(y_test, y_pred)\n",
    "recall = recall_score(y_test, y_pred)\n",
    "f1 = f1_score(y_test, y_pred)\n",
    "\n",
    "print(f'Общая точность (Accuracy): {accuracy:.2f}')\n",
    "print(\"Точность (Precision):\", precision)\n",
    "print(\"Полнота (Recall):\", recall)\n",
    "print(\"F1-мера:\", f1)"
   ]
  }
 ],
 "metadata": {
  "kernelspec": {
   "display_name": "Python 3",
   "language": "python",
   "name": "python3"
  },
  "language_info": {
   "codemirror_mode": {
    "name": "ipython",
    "version": 3
   },
   "file_extension": ".py",
   "mimetype": "text/x-python",
   "name": "python",
   "nbconvert_exporter": "python",
   "pygments_lexer": "ipython3",
   "version": "3.8.10"
  },
  "orig_nbformat": 4
 },
 "nbformat": 4,
 "nbformat_minor": 2
}
