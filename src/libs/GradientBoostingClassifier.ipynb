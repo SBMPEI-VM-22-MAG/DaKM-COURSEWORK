{
 "cells": [
  {
   "cell_type": "code",
   "execution_count": 5,
   "metadata": {},
   "outputs": [
    {
     "name": "stdout",
     "output_type": "stream",
     "text": [
      "Общая точность (Accuracy): 0.97\n",
      "Точность (Precision): 0.9876160990712074\n",
      "Полнота (Recall): 0.9465875370919882\n",
      "F1-мера: 0.9666666666666667\n"
     ]
    }
   ],
   "source": [
    "import pandas as pd\n",
    "import numpy as np\n",
    "import matplotlib.pyplot as plt\n",
    "from sklearn.model_selection import train_test_split\n",
    "from sklearn.ensemble import GradientBoostingClassifier\n",
    "from sklearn.metrics import accuracy_score, f1_score, precision_score, recall_score\n",
    "from sklearn import preprocessing\n",
    "\n",
    "le = preprocessing.LabelEncoder()\n",
    "\n",
    "# Загрузка данных\n",
    "data = pd.read_csv('../voice.csv')\n",
    "\n",
    "# Преобразование категориальных меток в числовые\n",
    "data['label'] = le.fit_transform(data['label'])\n",
    "\n",
    "# Подготовка данных\n",
    "X = data.drop('label', axis=1)\n",
    "y = data['label']\n",
    "X_train, X_test, y_train, y_test = train_test_split(X, y, test_size=0.2, random_state=42)\n",
    "\n",
    "# Создание и обучение модели градиентного бустинга\n",
    "clf = GradientBoostingClassifier(n_estimators=20, learning_rate=0.1, max_depth=5, random_state=42)\n",
    "clf.fit(X_train, y_train)\n",
    "\n",
    "# Оценка модели\n",
    "y_pred = clf.predict(X_test)\n",
    "accuracy = accuracy_score(y_test, y_pred)\n",
    "precision = precision_score(y_test, y_pred)\n",
    "recall = recall_score(y_test, y_pred)\n",
    "f1 = f1_score(y_test, y_pred)\n",
    "\n",
    "print(f'Общая точность (Accuracy): {accuracy:.2f}')\n",
    "print(\"Точность (Precision):\", precision)\n",
    "print(\"Полнота (Recall):\", recall)\n",
    "print(\"F1-мера:\", f1)"
   ]
  },
  {
   "cell_type": "code",
   "execution_count": 6,
   "metadata": {},
   "outputs": [
    {
     "name": "stdout",
     "output_type": "stream",
     "text": [
      "Общая точность (Accuracy): 0.97\n",
      "Точность (Precision): 0.9663299663299664\n",
      "Полнота (Recall): 0.9728813559322034\n",
      "F1-мера: 0.9695945945945947\n"
     ]
    }
   ],
   "source": [
    "import numpy as np\n",
    "import matplotlib.pyplot as plt\n",
    "from sklearn.model_selection import train_test_split\n",
    "from sklearn.ensemble import GradientBoostingClassifier\n",
    "from sklearn.metrics import accuracy_score, f1_score, precision_score, recall_score\n",
    "from sklearn.datasets import make_classification  # Импортируем make_classification\n",
    "\n",
    "# Генерация синтетических данных\n",
    "X, y = make_classification(n_samples=3000, n_features=20, random_state=42)\n",
    "\n",
    "# Разделение данных на обучающий и тестовый наборы\n",
    "X_train, X_test, y_train, y_test = train_test_split(X, y, test_size=0.2, random_state=42)\n",
    "\n",
    "# Создание и обучение модели градиентного бустинга\n",
    "clf = GradientBoostingClassifier(n_estimators=10, learning_rate=0.1, max_depth=1, random_state=42)\n",
    "clf.fit(X_train, y_train)\n",
    "\n",
    "# Оценка модели\n",
    "y_pred = clf.predict(X_test)\n",
    "accuracy = accuracy_score(y_test, y_pred)\n",
    "precision = precision_score(y_test, y_pred)\n",
    "recall = recall_score(y_test, y_pred)\n",
    "f1 = f1_score(y_test, y_pred)\n",
    "\n",
    "print(f'Общая точность (Accuracy): {accuracy:.2f}')\n",
    "print(\"Точность (Precision):\", precision)\n",
    "print(\"Полнота (Recall):\", recall)\n",
    "print(\"F1-мера:\", f1)"
   ]
  }
 ],
 "metadata": {
  "kernelspec": {
   "display_name": "Python 3",
   "language": "python",
   "name": "python3"
  },
  "language_info": {
   "codemirror_mode": {
    "name": "ipython",
    "version": 3
   },
   "file_extension": ".py",
   "mimetype": "text/x-python",
   "name": "python",
   "nbconvert_exporter": "python",
   "pygments_lexer": "ipython3",
   "version": "3.8.10"
  },
  "orig_nbformat": 4
 },
 "nbformat": 4,
 "nbformat_minor": 2
}
